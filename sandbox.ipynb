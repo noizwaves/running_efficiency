{
 "cells": [
  {
   "cell_type": "code",
   "execution_count": null,
   "metadata": {
    "collapsed": true
   },
   "outputs": [],
   "source": [
    "import tcxparser\n",
    "import pandas as pd\n",
    "from datetime import datetime\n",
    "from os import listdir\n",
    "from os.path import join\n",
    "\n",
    "def get_hr_data(tcx_path):\n",
    "    tcx = tcxparser.TCXParser(tcx_path)\n",
    "    hr_values = tcx.hr_values()\n",
    "    time_values = [datetime.strptime(t, '%Y-%m-%dT%H:%M:%S.000Z') for t in tcx.time_values()]\n",
    "    elapsed = [(tv - time_values[0]).seconds for tv in time_values]\n",
    "    return pd.DataFrame(data={'elapsed': elapsed, 'hr': hr_values})\n",
    "\n",
    "def load_data(dir_path):\n",
    "    tcx_filenames = [f for f in listdir(dir_path) if f.endswith('.tcx')]\n",
    "    return [get_hr_data(join(dir_path, f)) for f in tcx_filenames]"
   ]
  },
  {
   "cell_type": "code",
   "execution_count": null,
   "metadata": {
    "collapsed": false
   },
   "outputs": [],
   "source": [
    "load_data('data')"
   ]
  }
 ],
 "metadata": {
  "kernelspec": {
   "display_name": "Python 3",
   "language": "python",
   "name": "python3"
  },
  "language_info": {
   "codemirror_mode": {
    "name": "ipython",
    "version": 3
   },
   "file_extension": ".py",
   "mimetype": "text/x-python",
   "name": "python",
   "nbconvert_exporter": "python",
   "pygments_lexer": "ipython3",
   "version": "3.5.1"
  }
 },
 "nbformat": 4,
 "nbformat_minor": 0
}
