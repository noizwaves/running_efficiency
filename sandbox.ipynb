{
 "cells": [
  {
   "cell_type": "code",
   "execution_count": null,
   "metadata": {
    "collapsed": true
   },
   "outputs": [],
   "source": [
    "import tcxparser\n",
    "import pandas as pd\n",
    "from datetime import datetime\n",
    "from os import listdir\n",
    "from os.path import join\n",
    "\n",
    "def get_hr_data(tcx_path):\n",
    "    tcx = tcxparser.TCXParser(tcx_path)\n",
    "    hr_values = tcx.hr_values()\n",
    "    time_values = [datetime.strptime(t, '%Y-%m-%dT%H:%M:%S.000Z') for t in tcx.time_values()]\n",
    "    elapsed = [(tv - time_values[0]).seconds for tv in time_values]\n",
    "    return pd.DataFrame(data={'elapsed': elapsed, 'hr': hr_values})\n",
    "\n",
    "def load_data(dir_path):\n",
    "    tcx_filenames = [f for f in listdir(dir_path) if f.endswith('.tcx')]\n",
    "    data = [get_hr_data(join(dir_path, f)) for f in tcx_filenames]\n",
    "    dates = [datetime.strptime(f.split('_')[1], '%Y%m%d') for f in tcx_filenames]\n",
    "    return data, dates"
   ]
  },
  {
   "cell_type": "code",
   "execution_count": null,
   "metadata": {
    "collapsed": false
   },
   "outputs": [],
   "source": [
    "activities, activity_dates = load_data('data')"
   ]
  },
  {
   "cell_type": "code",
   "execution_count": null,
   "metadata": {
    "collapsed": false
   },
   "outputs": [],
   "source": [
    "first_activity = activities[0]\n",
    "first_activity.head()"
   ]
  },
  {
   "cell_type": "code",
   "execution_count": null,
   "metadata": {
    "collapsed": false
   },
   "outputs": [],
   "source": [
    "first_activity.tail()"
   ]
  },
  {
   "cell_type": "code",
   "execution_count": null,
   "metadata": {
    "collapsed": false
   },
   "outputs": [],
   "source": [
    "import bokeh\n",
    "from bokeh.io import output_notebook\n",
    "from bokeh.plotting import figure, show\n",
    "from bokeh.palettes import Blues9, Spectral9, RdYlGn5\n",
    "from bokeh.models import BoxAnnotation\n",
    "from bokeh.models import Range1d"
   ]
  },
  {
   "cell_type": "code",
   "execution_count": null,
   "metadata": {
    "collapsed": false
   },
   "outputs": [],
   "source": [
    "output_notebook()"
   ]
  },
  {
   "cell_type": "code",
   "execution_count": null,
   "metadata": {
    "collapsed": false
   },
   "outputs": [],
   "source": [
    "TOOLS = 'box_zoom,resize,reset,hover'\n",
    "    \n",
    "WALKING = Spectral9[0]\n",
    "JOGGING = Spectral9[1]\n",
    "RUNNING = Spectral9[6]\n",
    "\n",
    "def plot_activity(activity):\n",
    "    p = figure(plot_width=800, tools=TOOLS)\n",
    "    p.line(activity.elapsed, activity.hr, line_width=2)\n",
    "    return p\n",
    "\n",
    "def plot_activities(activities):\n",
    "    p = figure(plot_width=800, tools=TOOLS)\n",
    "    for activity in activities:\n",
    "        p.line(activity.elapsed, activity.hr, line_width=2)\n",
    "    return p\n",
    "\n",
    "def plot_activities_colourful(activities):\n",
    "    p = figure(plot_width=800, tools=TOOLS)\n",
    "    colours = list(Blues9); colours.reverse()\n",
    "    for activity in activities:\n",
    "        line_colour = colours.pop()\n",
    "        p.line(activity.elapsed, activity.hr, line_width=2, line_color=line_colour)\n",
    "    return p\n",
    "\n",
    "def add_intensity_bands(p):\n",
    "    opacity = 0.1\n",
    "    \n",
    "    p.add_layout(BoxAnnotation(left=0, right=300, fill_alpha=opacity, line_color=WALKING, fill_color=WALKING))\n",
    "    p.add_layout(BoxAnnotation(left=300, right=600, fill_alpha=opacity, line_color=JOGGING, fill_color=JOGGING))\n",
    "    p.add_layout(BoxAnnotation(left=600, right=3000, fill_alpha=opacity, line_color=RUNNING, fill_color=RUNNING))\n",
    "    p.add_layout(BoxAnnotation(left=3000, right=3300, fill_alpha=opacity, line_color=JOGGING, fill_color=JOGGING))\n",
    "    p.add_layout(BoxAnnotation(left=3300, right=3600, fill_alpha=opacity, line_color=WALKING, fill_color=WALKING))\n",
    "\n",
    "def focus(p, start, end, hr_min, hr_max):\n",
    "    p.x_range = Range1d(start, end)\n",
    "    p.y_range = Range1d(hr_min, hr_max)"
   ]
  },
  {
   "cell_type": "code",
   "execution_count": null,
   "metadata": {
    "collapsed": false
   },
   "outputs": [],
   "source": [
    "p = plot_activity(first_activity)\n",
    "show(p)"
   ]
  },
  {
   "cell_type": "code",
   "execution_count": null,
   "metadata": {
    "collapsed": false
   },
   "outputs": [],
   "source": [
    "p = plot_activity(first_activity)\n",
    "add_intensity_bands(p)\n",
    "show(p)"
   ]
  },
  {
   "cell_type": "code",
   "execution_count": null,
   "metadata": {
    "collapsed": false
   },
   "outputs": [],
   "source": [
    "p = plot_activities(activities)\n",
    "show(p)"
   ]
  },
  {
   "cell_type": "code",
   "execution_count": null,
   "metadata": {
    "collapsed": false
   },
   "outputs": [],
   "source": [
    "p = plot_activities_colourful(activities)\n",
    "show(p)"
   ]
  },
  {
   "cell_type": "code",
   "execution_count": null,
   "metadata": {
    "collapsed": false
   },
   "outputs": [],
   "source": [
    "p = plot_activities_colourful(activities)\n",
    "add_intensity_bands(p)\n",
    "focus(p, 0, 3600, 70, 170)\n",
    "show(p)"
   ]
  },
  {
   "cell_type": "code",
   "execution_count": null,
   "metadata": {
    "collapsed": false
   },
   "outputs": [],
   "source": [
    "p = plot_activities_colourful(activities)\n",
    "add_intensity_bands(p)\n",
    "focus(p, 240, 600, 80, 140)\n",
    "show(p)"
   ]
  },
  {
   "cell_type": "code",
   "execution_count": null,
   "metadata": {
    "collapsed": false
   },
   "outputs": [],
   "source": [
    "p = plot_activities_colourful(activities)\n",
    "add_intensity_bands(p)\n",
    "focus(p, 540, 900, 115, 155)\n",
    "show(p)"
   ]
  },
  {
   "cell_type": "code",
   "execution_count": null,
   "metadata": {
    "collapsed": false
   },
   "outputs": [],
   "source": [
    "p = plot_activities_colourful(activities)\n",
    "add_intensity_bands(p)\n",
    "focus(p, 2940, 3300, 135, 165)\n",
    "show(p)"
   ]
  },
  {
   "cell_type": "code",
   "execution_count": null,
   "metadata": {
    "collapsed": false
   },
   "outputs": [],
   "source": [
    "p = plot_activities_colourful(activities)\n",
    "add_intensity_bands(p)\n",
    "focus(p, 3240, 3600, 110, 160)\n",
    "show(p)"
   ]
  },
  {
   "cell_type": "code",
   "execution_count": null,
   "metadata": {
    "collapsed": false
   },
   "outputs": [],
   "source": [
    "first_activity.elapsed.between(120, 180)"
   ]
  },
  {
   "cell_type": "code",
   "execution_count": null,
   "metadata": {
    "collapsed": false
   },
   "outputs": [],
   "source": [
    "first_activity[first_activity.elapsed.between(120, 180)]"
   ]
  },
  {
   "cell_type": "code",
   "execution_count": null,
   "metadata": {
    "collapsed": false
   },
   "outputs": [],
   "source": [
    "def mean_hr_between(activity, start, end):\n",
    "    data = activity[activity.elapsed.between(start, end)]\n",
    "    return data.hr.mean()\n",
    "\n",
    "mean_hr_between(first_activity, 120, 180)"
   ]
  },
  {
   "cell_type": "code",
   "execution_count": null,
   "metadata": {
    "collapsed": false
   },
   "outputs": [],
   "source": [
    "running_mean = [mean_hr_between(a, 600, 3000) for a in activities]\n",
    "\n",
    "p = figure(plot_width=800, plot_height=400, x_axis_type=\"datetime\", tools=TOOLS)\n",
    "p.circle(activity_dates, running_mean, size=10, color=Spectral9[6])\n",
    "show(p)"
   ]
  },
  {
   "cell_type": "code",
   "execution_count": null,
   "metadata": {
    "collapsed": false
   },
   "outputs": [],
   "source": [
    "running_steady = [mean_hr_between(a, 2880, 3000) for a in activities]\n",
    "cooldown_steady = [mean_hr_between(a, 3180, 3300) for a in activities]\n",
    "\n",
    "p = figure(plot_width=800, plot_height=400, x_axis_type=\"datetime\", tools=TOOLS)\n",
    "p.circle(activity_dates, running_steady, size=10, color=Spectral9[6])\n",
    "p.circle(activity_dates, cooldown_steady, size=10, color=Spectral9[1])\n",
    "show(p)"
   ]
  },
  {
   "cell_type": "code",
   "execution_count": null,
   "metadata": {
    "collapsed": false
   },
   "outputs": [],
   "source": [
    "walking_steady = [mean_hr_between(a, 3480, 3600) for a in activities]\n",
    "\n",
    "p = figure(plot_width=800, plot_height=400, x_axis_type=\"datetime\", tools=TOOLS)\n",
    "p.circle(activity_dates, cooldown_steady, size=10, color=Spectral9[1])\n",
    "p.circle(activity_dates, walking_steady, size=10, color=Spectral9[0])\n",
    "show(p)"
   ]
  },
  {
   "cell_type": "code",
   "execution_count": null,
   "metadata": {
    "collapsed": false
   },
   "outputs": [],
   "source": [
    "p = plot_activity(first_activity)\n",
    "focus(p, 2940, 3300, 150, 165)\n",
    "show(p)"
   ]
  },
  {
   "cell_type": "code",
   "execution_count": null,
   "metadata": {
    "collapsed": false,
    "scrolled": true
   },
   "outputs": [],
   "source": [
    "p = plot_activity(first_activity)\n",
    "\n",
    "running_steady = mean_hr_between(first_activity, 2940, 3000)\n",
    "p.line(x=[0,3600], y=[running_steady, running_steady], line_color=RUNNING, line_width=2)\n",
    "\n",
    "jogging_steady = mean_hr_between(first_activity, 3240, 3300)\n",
    "p.line(x=[0,3600], y=[jogging_steady, jogging_steady], line_color=JOGGING, line_width=2)\n",
    "\n",
    "focus(p, 2940, 3300, 150, 165)\n",
    "p.ygrid.grid_line_color = None\n",
    "p.xgrid.grid_line_alpha = 0.75\n",
    "p.xgrid.grid_line_dash = [6, 4]\n",
    "show(p)"
   ]
  },
  {
   "cell_type": "code",
   "execution_count": null,
   "metadata": {
    "collapsed": false
   },
   "outputs": [],
   "source": [
    "threshold = (running_steady + jogging_steady) / 2\n",
    "threshold"
   ]
  },
  {
   "cell_type": "code",
   "execution_count": null,
   "metadata": {
    "collapsed": false
   },
   "outputs": [],
   "source": [
    "p = plot_activity(first_activity)\n",
    "\n",
    "running_steady = mean_hr_between(first_activity, 2940, 3000)\n",
    "p.line(x=[0,3600], y=[running_steady, running_steady], line_color=RUNNING, line_width=2)\n",
    "\n",
    "p.line(x=[0,3600], y=[threshold, threshold], line_color='black', line_width=2, line_dash=[8, 3])\n",
    "\n",
    "jogging_steady = mean_hr_between(first_activity, 3240, 3300)\n",
    "p.line(x=[0,3600], y=[jogging_steady, jogging_steady], line_color=JOGGING, line_width=2)\n",
    "\n",
    "focus(p, 2940, 3300, 150, 165)\n",
    "p.ygrid.grid_line_color = None\n",
    "p.xgrid.grid_line_alpha = 0.75\n",
    "p.xgrid.grid_line_dash = [6, 4]\n",
    "show(p)"
   ]
  },
  {
   "cell_type": "code",
   "execution_count": null,
   "metadata": {
    "collapsed": false
   },
   "outputs": [],
   "source": [
    "jogging = first_activity[first_activity.elapsed.between(3000, 3300)]\n",
    "jogging[jogging.hr < threshold].head()"
   ]
  },
  {
   "cell_type": "code",
   "execution_count": null,
   "metadata": {
    "collapsed": false
   },
   "outputs": [],
   "source": [
    "jogging[jogging.hr < threshold].iloc[0].elapsed"
   ]
  },
  {
   "cell_type": "code",
   "execution_count": null,
   "metadata": {
    "collapsed": false
   },
   "outputs": [],
   "source": [
    "threshold_hit_after = jogging[jogging.hr < threshold].iloc[0].elapsed - 3000\n",
    "threshold_hit_after"
   ]
  },
  {
   "cell_type": "code",
   "execution_count": null,
   "metadata": {
    "collapsed": false
   },
   "outputs": [],
   "source": [
    "p = plot_activity(first_activity)\n",
    "\n",
    "running_steady = mean_hr_between(first_activity, 2940, 3000)\n",
    "p.line(x=[0,3600], y=[running_steady, running_steady], line_color=RUNNING, line_width=1)\n",
    "\n",
    "p.line(x=[0,3600], y=[threshold, threshold], line_color='black', line_width=2, line_dash=[8, 3])\n",
    "\n",
    "jogging_steady = mean_hr_between(first_activity, 3240, 3300)\n",
    "p.line(x=[0,3600], y=[jogging_steady, jogging_steady], line_color=JOGGING, line_width=1)\n",
    "\n",
    "hit_at = 3000 + threshold_hit_after\n",
    "p.line(x=[3000,3000], y=[0, 180], line_color=RUNNING, line_width=1)\n",
    "p.line(x=[hit_at, hit_at], y=[0, 180], line_color='black', line_width=2, line_dash=[8,4])\n",
    "\n",
    "focus(p, 2940, 3300, 150, 165)\n",
    "p.ygrid.grid_line_color = None\n",
    "p.xgrid.grid_line_color = None\n",
    "show(p)"
   ]
  },
  {
   "cell_type": "code",
   "execution_count": null,
   "metadata": {
    "collapsed": false
   },
   "outputs": [],
   "source": [
    "def calc_threshold(start_value, end_value, percent):\n",
    "    delta = end_value - start_value\n",
    "    return start_value + percent * delta\n",
    "\n",
    "calc_threshold(running_steady, jogging_steady, 0.5)"
   ]
  },
  {
   "cell_type": "code",
   "execution_count": null,
   "metadata": {
    "collapsed": false
   },
   "outputs": [],
   "source": [
    "def calc_threshold_offset(activity, start_time, end_time):\n",
    "    initial_hr = mean_hr_between(activity, start_time - 60, start_time)\n",
    "    final_hr = mean_hr_between(activity, end_time - 60, end_time)\n",
    "\n",
    "    threshold = calc_threshold(initial_hr, final_hr, 0.5)\n",
    "    \n",
    "    transition = activity[activity.elapsed.between(start_time, end_time)]\n",
    "    first_sample = transition[transition.hr < threshold].iloc[0]\n",
    "    \n",
    "    return first_sample.elapsed - start_time\n",
    "\n",
    "calc_threshold_offset(first_activity, 3000, 3300)"
   ]
  },
  {
   "cell_type": "code",
   "execution_count": null,
   "metadata": {
    "collapsed": false
   },
   "outputs": [],
   "source": [
    "run_jog_offsets = [calc_threshold_offset(a, 3000, 3300) for a in activities]\n",
    "run_jog_offsets"
   ]
  },
  {
   "cell_type": "code",
   "execution_count": null,
   "metadata": {
    "collapsed": false
   },
   "outputs": [],
   "source": [
    "p = figure(plot_width=800, plot_height=400, x_axis_type=\"datetime\", tools=TOOLS)\n",
    "p.circle(activity_dates, run_jog_offsets, size=10)\n",
    "show(p)"
   ]
  },
  {
   "cell_type": "code",
   "execution_count": null,
   "metadata": {
    "collapsed": false
   },
   "outputs": [],
   "source": [
    "def calc_threshold_offset(activity, start_time, end_time, percent):\n",
    "    initial_hr = mean_hr_between(activity, start_time - 60, start_time)\n",
    "    final_hr = mean_hr_between(activity, end_time - 60, end_time)\n",
    "\n",
    "    threshold = calc_threshold(initial_hr, final_hr, percent)\n",
    "    \n",
    "    transition = activity[activity.elapsed.between(start_time, end_time)]\n",
    "    first_sample = transition[transition.hr < threshold].iloc[0]\n",
    "    \n",
    "#     print(first_sample)\n",
    "    \n",
    "    return first_sample.elapsed - start_time\n",
    "\n",
    "calc_threshold_offset(first_activity, 3000, 3300, 0.5)"
   ]
  },
  {
   "cell_type": "code",
   "execution_count": null,
   "metadata": {
    "collapsed": false
   },
   "outputs": [],
   "source": [
    "[[calc_threshold_offset(a, 3000, 3300, p) for p in [0.1, 0.25, 0.5, 0.75, 0.9]] for a in activities]"
   ]
  },
  {
   "cell_type": "code",
   "execution_count": null,
   "metadata": {
    "collapsed": false
   },
   "outputs": [],
   "source": [
    "PERCENTAGES = [0.1, 0.25, 0.5, 0.75, 0.9]\n",
    "p = figure(plot_width=800, plot_height=400, x_axis_type=\"datetime\", tools=TOOLS)\n",
    "\n",
    "colours = list(RdYlGn5)\n",
    "\n",
    "for pct in PERCENTAGES:\n",
    "    colour = colours.pop()\n",
    "    size = sizes.pop()\n",
    "    offsets = [calc_threshold_offset(a, 3000, 3300, pct) for a in activities]\n",
    "    p.circle(activity_dates, offsets, size=12, color=colour)\n",
    "show(p)"
   ]
  },
  {
   "cell_type": "code",
   "execution_count": null,
   "metadata": {
    "collapsed": true
   },
   "outputs": [],
   "source": []
  }
 ],
 "metadata": {
  "kernelspec": {
   "display_name": "Python 3",
   "language": "python",
   "name": "python3"
  },
  "language_info": {
   "codemirror_mode": {
    "name": "ipython",
    "version": 3
   },
   "file_extension": ".py",
   "mimetype": "text/x-python",
   "name": "python",
   "nbconvert_exporter": "python",
   "pygments_lexer": "ipython3",
   "version": "3.5.1"
  }
 },
 "nbformat": 4,
 "nbformat_minor": 0
}
